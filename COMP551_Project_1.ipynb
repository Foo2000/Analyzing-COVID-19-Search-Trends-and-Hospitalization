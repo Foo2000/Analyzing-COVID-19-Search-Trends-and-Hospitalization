{
  "nbformat": 4,
  "nbformat_minor": 0,
  "metadata": {
    "colab": {
      "name": "COMP551_Project_1.ipynb",
      "provenance": [],
      "authorship_tag": "ABX9TyN0fg+0w8Z9nRsJs3Ucih0p",
      "include_colab_link": true
    },
    "kernelspec": {
      "name": "python3",
      "display_name": "Python 3"
    }
  },
  "cells": [
    {
      "cell_type": "markdown",
      "metadata": {
        "id": "view-in-github",
        "colab_type": "text"
      },
      "source": [
        "<a href=\"https://colab.research.google.com/github/j-chenn/COMP551_Project_1/blob/main/COMP551_Project_1.ipynb\" target=\"_parent\"><img src=\"https://colab.research.google.com/assets/colab-badge.svg\" alt=\"Open In Colab\"/></a>"
      ]
    },
    {
      "cell_type": "markdown",
      "metadata": {
        "id": "X8j0hsOoM03e"
      },
      "source": [
        "# Task 1: Acquire, pre-process and analyze the data\n",
        "## Acquiring both datasets:\n",
        "Dataset 1: [Search Trends](https://github.com/google-research/open-covid-19-data/blob/master/data/exports/search_trends_symptoms_dataset/README.mdhttps://)\n",
        "\n",
        "Dataset 2: [COVID hospitalization cases](https://github.com/google-research/open-covid-19-data)"
      ]
    },
    {
      "cell_type": "code",
      "metadata": {
        "id": "eW-miWaPR0Yt"
      },
      "source": [
        "# Imports\n",
        "\n",
        "import numpy as np\n",
        "import pandas as pd\n"
      ],
      "execution_count": 5,
      "outputs": []
    },
    {
      "cell_type": "code",
      "metadata": {
        "id": "Dza6al16Mj74"
      },
      "source": [
        "st_url = \"https://raw.githubusercontent.com/google-research/open-covid-19-data/master/data/exports/search_trends_symptoms_dataset/United%20States%20of%20America/2020_US_weekly_symptoms_dataset.csv\"\n",
        "hosp_url = \"https://raw.githubusercontent.com/google-research/open-covid-19-data/master/data/exports/cc_by/aggregated_cc_by.csv\"\n",
        "\n",
        "# Load into pandas dataframes\n",
        "st_df = pd.read_csv(st_url)\n",
        "hosp_df = pd.read_csv(hosp_url)"
      ],
      "execution_count": null,
      "outputs": []
    },
    {
      "cell_type": "code",
      "metadata": {
        "id": "L0Vl_btNPfgN",
        "outputId": "5c4cc143-e101-469c-d289-74085b0b5687",
        "colab": {
          "base_uri": "https://localhost:8080/",
          "height": 391
        }
      },
      "source": [
        "print(st_df.describe())\n",
        "print(hosp_df.describe())"
      ],
      "execution_count": 36,
      "outputs": [
        {
          "output_type": "stream",
          "text": [
            "       sub_region_2  ...  symptom:pancreatitis\n",
            "count           0.0  ...                   0.0\n",
            "mean            NaN  ...                   NaN\n",
            "std             NaN  ...                   NaN\n",
            "min             NaN  ...                   NaN\n",
            "25%             NaN  ...                   NaN\n",
            "50%             NaN  ...                   NaN\n",
            "75%             NaN  ...                   NaN\n",
            "max             NaN  ...                   NaN\n",
            "\n",
            "[8 rows x 424 columns]\n",
            "       cases_cumulative  ...  economic_support_index_for_display\n",
            "count      4.424600e+04  ...                        48352.000000\n",
            "mean       5.625675e+04  ...                           34.865673\n",
            "std        3.481139e+05  ...                           33.538095\n",
            "min        0.000000e+00  ...                            0.000000\n",
            "25%        7.100000e+01  ...                            0.000000\n",
            "50%        1.193000e+03  ...                           37.500000\n",
            "75%        1.264000e+04  ...                           62.500000\n",
            "max        7.277814e+06  ...                          100.000000\n",
            "\n",
            "[8 rows x 58 columns]\n"
          ],
          "name": "stdout"
        }
      ]
    },
    {
      "cell_type": "markdown",
      "metadata": {
        "id": "elRSVGYhZi7L"
      },
      "source": [
        "## Preprocess the datasets"
      ]
    },
    {
      "cell_type": "code",
      "metadata": {
        "id": "JZ2ApGzrZgcZ"
      },
      "source": [
        "# Search trends dataset\n",
        "\n",
        "#TODO: Preprocessing"
      ],
      "execution_count": 52,
      "outputs": []
    }
  ]
}